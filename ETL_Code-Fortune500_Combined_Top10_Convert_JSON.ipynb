{
 "cells": [
  {
   "cell_type": "code",
   "execution_count": 7,
   "metadata": {},
   "outputs": [],
   "source": [
    "import pandas as pd\n",
    "from sqlalchemy import create_engine\n",
    "import os\n",
    "from itertools import groupby \n",
    "from collections import OrderedDict\n",
    "import json "
   ]
  },
  {
   "cell_type": "code",
   "execution_count": 6,
   "metadata": {},
   "outputs": [],
   "source": [
    "Fortune10_2016 = pd.read_csv('./Resources/Fortune10_2016.csv', dtype={\n",
    "            \"Rank\" : float,\n",
    "            \"Company\" : str,\n",
    "            \"Ticker\" : str,\n",
    "            \"Revenues\" : float,\n",
    "        })\n",
    "\n",
    "results = []\n",
    "\n",
    "for (Rank, Company), bag in Fortune10_2016.groupby([\"Rank\", \"Company\"]):\n",
    "    contents_df = bag.drop([\"Rank\", \"Company\"], axis=1)\n",
    "    subset = [OrderedDict(row) for i,row in contents_df.iterrows()]\n",
    "    results.append(OrderedDict([(\"Rank\", Rank),\n",
    "                                (\"Company\", Company),\n",
    "                                (\"Additional Info\", subset)]))\n",
    "                                \n",
    "with open('./Resources/Top10_2016.json', 'w') as outfile:\n",
    "    outfile.write(json.dumps(results, indent=4))"
   ]
  },
  {
   "cell_type": "code",
   "execution_count": 5,
   "metadata": {},
   "outputs": [],
   "source": [
    "Fortune10_2017 = pd.read_csv('./Resources/Fortune10_2017.csv', dtype={\n",
    "            \"Rank\" : float,\n",
    "            \"Company\" : str,\n",
    "            \"Ticker\" : str,\n",
    "            \"Revenues\" : float,\n",
    "        })\n",
    "\n",
    "results = []\n",
    "\n",
    "for (Rank, Company), bag in Fortune10_2017.groupby([\"Rank\", \"Company\"]):\n",
    "    contents_df = bag.drop([\"Rank\", \"Company\"], axis=1)\n",
    "    subset = [OrderedDict(row) for i,row in contents_df.iterrows()]\n",
    "    results.append(OrderedDict([(\"Rank\", Rank),\n",
    "                                (\"Company\", Company),\n",
    "                                (\"Additional Info\", subset)]))\n",
    "                                \n",
    "with open('./Resources/Top10_2017.json', 'w') as outfile:\n",
    "    outfile.write(json.dumps(results, indent=4))"
   ]
  },
  {
   "cell_type": "code",
   "execution_count": null,
   "metadata": {},
   "outputs": [],
   "source": []
  }
 ],
 "metadata": {
  "kernelspec": {
   "display_name": "Python 3",
   "language": "python",
   "name": "python3"
  },
  "language_info": {
   "codemirror_mode": {
    "name": "ipython",
    "version": 3
   },
   "file_extension": ".py",
   "mimetype": "text/x-python",
   "name": "python",
   "nbconvert_exporter": "python",
   "pygments_lexer": "ipython3",
   "version": "3.7.0"
  }
 },
 "nbformat": 4,
 "nbformat_minor": 2
}
